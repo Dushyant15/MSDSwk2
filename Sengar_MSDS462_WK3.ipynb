{
  "nbformat": 4,
  "nbformat_minor": 0,
  "metadata": {
    "colab": {
      "name": "Sengar_MSDS462_WK3.ipynb",
      "provenance": [],
      "mount_file_id": "1gvmtiecou6u2pQQozxo2zYWWgjYOSv7t",
      "authorship_tag": "ABX9TyNLqg1lzLCOT9TTvP7GappC",
      "include_colab_link": true
    },
    "kernelspec": {
      "name": "python3",
      "display_name": "Python 3"
    }
  },
  "cells": [
    {
      "cell_type": "markdown",
      "metadata": {
        "id": "view-in-github",
        "colab_type": "text"
      },
      "source": [
        "<a href=\"https://colab.research.google.com/github/Dushyant15/MSDSwk2/blob/master/Sengar_MSDS462_WK3.ipynb\" target=\"_parent\"><img src=\"https://colab.research.google.com/assets/colab-badge.svg\" alt=\"Open In Colab\"/></a>"
      ]
    },
    {
      "cell_type": "code",
      "metadata": {
        "id": "aHR4XzdjMztZ",
        "outputId": "e9df19ba-2dde-411b-e9ba-e873f47a5429",
        "colab": {
          "base_uri": "https://localhost:8080/",
          "height": 35
        }
      },
      "source": [
        "import pandas as pd\n",
        "pd.__version__"
      ],
      "execution_count": 6,
      "outputs": [
        {
          "output_type": "execute_result",
          "data": {
            "application/vnd.google.colaboratory.intrinsic+json": {
              "type": "string"
            },
            "text/plain": [
              "'1.1.2'"
            ]
          },
          "metadata": {
            "tags": []
          },
          "execution_count": 6
        }
      ]
    },
    {
      "cell_type": "code",
      "metadata": {
        "id": "yBtjjzPSCk8r",
        "outputId": "b19ddf5d-62c8-4685-a5b5-4e1644eb73ce",
        "colab": {
          "base_uri": "https://localhost:8080/",
          "height": 411
        }
      },
      "source": [
        "!pip install google.cloud.vision"
      ],
      "execution_count": 3,
      "outputs": [
        {
          "output_type": "stream",
          "text": [
            "Collecting google.cloud.vision\n",
            "\u001b[?25l  Downloading https://files.pythonhosted.org/packages/0d/7f/e10d602c2dc3f749f1b78377a3357790f1da71b28e7da9e5bc20b3a9bd40/google_cloud_vision-1.0.0-py2.py3-none-any.whl (435kB)\n",
            "\r\u001b[K     |▊                               | 10kB 17.1MB/s eta 0:00:01\r\u001b[K     |█▌                              | 20kB 2.1MB/s eta 0:00:01\r\u001b[K     |██▎                             | 30kB 2.7MB/s eta 0:00:01\r\u001b[K     |███                             | 40kB 3.0MB/s eta 0:00:01\r\u001b[K     |███▊                            | 51kB 2.4MB/s eta 0:00:01\r\u001b[K     |████▌                           | 61kB 2.7MB/s eta 0:00:01\r\u001b[K     |█████▎                          | 71kB 3.0MB/s eta 0:00:01\r\u001b[K     |██████                          | 81kB 3.2MB/s eta 0:00:01\r\u001b[K     |██████▉                         | 92kB 3.4MB/s eta 0:00:01\r\u001b[K     |███████▌                        | 102kB 3.3MB/s eta 0:00:01\r\u001b[K     |████████▎                       | 112kB 3.3MB/s eta 0:00:01\r\u001b[K     |█████████                       | 122kB 3.3MB/s eta 0:00:01\r\u001b[K     |█████████▉                      | 133kB 3.3MB/s eta 0:00:01\r\u001b[K     |██████████▌                     | 143kB 3.3MB/s eta 0:00:01\r\u001b[K     |███████████▎                    | 153kB 3.3MB/s eta 0:00:01\r\u001b[K     |████████████                    | 163kB 3.3MB/s eta 0:00:01\r\u001b[K     |████████████▉                   | 174kB 3.3MB/s eta 0:00:01\r\u001b[K     |█████████████▋                  | 184kB 3.3MB/s eta 0:00:01\r\u001b[K     |██████████████▎                 | 194kB 3.3MB/s eta 0:00:01\r\u001b[K     |███████████████                 | 204kB 3.3MB/s eta 0:00:01\r\u001b[K     |███████████████▉                | 215kB 3.3MB/s eta 0:00:01\r\u001b[K     |████████████████▋               | 225kB 3.3MB/s eta 0:00:01\r\u001b[K     |█████████████████▎              | 235kB 3.3MB/s eta 0:00:01\r\u001b[K     |██████████████████              | 245kB 3.3MB/s eta 0:00:01\r\u001b[K     |██████████████████▉             | 256kB 3.3MB/s eta 0:00:01\r\u001b[K     |███████████████████▋            | 266kB 3.3MB/s eta 0:00:01\r\u001b[K     |████████████████████▍           | 276kB 3.3MB/s eta 0:00:01\r\u001b[K     |█████████████████████           | 286kB 3.3MB/s eta 0:00:01\r\u001b[K     |█████████████████████▉          | 296kB 3.3MB/s eta 0:00:01\r\u001b[K     |██████████████████████▋         | 307kB 3.3MB/s eta 0:00:01\r\u001b[K     |███████████████████████▍        | 317kB 3.3MB/s eta 0:00:01\r\u001b[K     |████████████████████████        | 327kB 3.3MB/s eta 0:00:01\r\u001b[K     |████████████████████████▉       | 337kB 3.3MB/s eta 0:00:01\r\u001b[K     |█████████████████████████▋      | 348kB 3.3MB/s eta 0:00:01\r\u001b[K     |██████████████████████████▍     | 358kB 3.3MB/s eta 0:00:01\r\u001b[K     |███████████████████████████▏    | 368kB 3.3MB/s eta 0:00:01\r\u001b[K     |███████████████████████████▉    | 378kB 3.3MB/s eta 0:00:01\r\u001b[K     |████████████████████████████▋   | 389kB 3.3MB/s eta 0:00:01\r\u001b[K     |█████████████████████████████▍  | 399kB 3.3MB/s eta 0:00:01\r\u001b[K     |██████████████████████████████▏ | 409kB 3.3MB/s eta 0:00:01\r\u001b[K     |██████████████████████████████▉ | 419kB 3.3MB/s eta 0:00:01\r\u001b[K     |███████████████████████████████▋| 430kB 3.3MB/s eta 0:00:01\r\u001b[K     |████████████████████████████████| 440kB 3.3MB/s \n",
            "\u001b[?25hRequirement already satisfied: google-api-core[grpc]<2.0.0dev,>=1.14.0 in /usr/local/lib/python3.6/dist-packages (from google.cloud.vision) (1.16.0)\n",
            "Requirement already satisfied: pytz in /usr/local/lib/python3.6/dist-packages (from google-api-core[grpc]<2.0.0dev,>=1.14.0->google.cloud.vision) (2018.9)\n",
            "Requirement already satisfied: setuptools>=34.0.0 in /usr/local/lib/python3.6/dist-packages (from google-api-core[grpc]<2.0.0dev,>=1.14.0->google.cloud.vision) (50.3.0)\n",
            "Requirement already satisfied: requests<3.0.0dev,>=2.18.0 in /usr/local/lib/python3.6/dist-packages (from google-api-core[grpc]<2.0.0dev,>=1.14.0->google.cloud.vision) (2.23.0)\n",
            "Requirement already satisfied: googleapis-common-protos<2.0dev,>=1.6.0 in /usr/local/lib/python3.6/dist-packages (from google-api-core[grpc]<2.0.0dev,>=1.14.0->google.cloud.vision) (1.52.0)\n",
            "Requirement already satisfied: google-auth<2.0dev,>=0.4.0 in /usr/local/lib/python3.6/dist-packages (from google-api-core[grpc]<2.0.0dev,>=1.14.0->google.cloud.vision) (1.17.2)\n",
            "Requirement already satisfied: protobuf>=3.4.0 in /usr/local/lib/python3.6/dist-packages (from google-api-core[grpc]<2.0.0dev,>=1.14.0->google.cloud.vision) (3.12.4)\n",
            "Requirement already satisfied: six>=1.10.0 in /usr/local/lib/python3.6/dist-packages (from google-api-core[grpc]<2.0.0dev,>=1.14.0->google.cloud.vision) (1.15.0)\n",
            "Requirement already satisfied: grpcio<2.0dev,>=1.8.2; extra == \"grpc\" in /usr/local/lib/python3.6/dist-packages (from google-api-core[grpc]<2.0.0dev,>=1.14.0->google.cloud.vision) (1.32.0)\n",
            "Requirement already satisfied: urllib3!=1.25.0,!=1.25.1,<1.26,>=1.21.1 in /usr/local/lib/python3.6/dist-packages (from requests<3.0.0dev,>=2.18.0->google-api-core[grpc]<2.0.0dev,>=1.14.0->google.cloud.vision) (1.24.3)\n",
            "Requirement already satisfied: chardet<4,>=3.0.2 in /usr/local/lib/python3.6/dist-packages (from requests<3.0.0dev,>=2.18.0->google-api-core[grpc]<2.0.0dev,>=1.14.0->google.cloud.vision) (3.0.4)\n",
            "Requirement already satisfied: idna<3,>=2.5 in /usr/local/lib/python3.6/dist-packages (from requests<3.0.0dev,>=2.18.0->google-api-core[grpc]<2.0.0dev,>=1.14.0->google.cloud.vision) (2.10)\n",
            "Requirement already satisfied: certifi>=2017.4.17 in /usr/local/lib/python3.6/dist-packages (from requests<3.0.0dev,>=2.18.0->google-api-core[grpc]<2.0.0dev,>=1.14.0->google.cloud.vision) (2020.6.20)\n",
            "Requirement already satisfied: cachetools<5.0,>=2.0.0 in /usr/local/lib/python3.6/dist-packages (from google-auth<2.0dev,>=0.4.0->google-api-core[grpc]<2.0.0dev,>=1.14.0->google.cloud.vision) (4.1.1)\n",
            "Requirement already satisfied: rsa<5,>=3.1.4; python_version >= \"3\" in /usr/local/lib/python3.6/dist-packages (from google-auth<2.0dev,>=0.4.0->google-api-core[grpc]<2.0.0dev,>=1.14.0->google.cloud.vision) (4.6)\n",
            "Requirement already satisfied: pyasn1-modules>=0.2.1 in /usr/local/lib/python3.6/dist-packages (from google-auth<2.0dev,>=0.4.0->google-api-core[grpc]<2.0.0dev,>=1.14.0->google.cloud.vision) (0.2.8)\n",
            "Requirement already satisfied: pyasn1>=0.1.3 in /usr/local/lib/python3.6/dist-packages (from rsa<5,>=3.1.4; python_version >= \"3\"->google-auth<2.0dev,>=0.4.0->google-api-core[grpc]<2.0.0dev,>=1.14.0->google.cloud.vision) (0.4.8)\n",
            "Installing collected packages: google.cloud.vision\n",
            "Successfully installed google.cloud.vision\n"
          ],
          "name": "stdout"
        }
      ]
    },
    {
      "cell_type": "code",
      "metadata": {
        "id": "PXoylgWeCARc"
      },
      "source": [
        "import os, io\n",
        "from google.cloud import vision\n",
        "from google.cloud.vision import types"
      ],
      "execution_count": 7,
      "outputs": []
    },
    {
      "cell_type": "code",
      "metadata": {
        "id": "n7vjPdM9IX8H",
        "outputId": "2baa0862-9ecf-4647-b490-ab274b3773a0",
        "colab": {
          "base_uri": "https://localhost:8080/",
          "height": 34
        }
      },
      "source": [
        "!pwd"
      ],
      "execution_count": 20,
      "outputs": [
        {
          "output_type": "stream",
          "text": [
            "/content\n"
          ],
          "name": "stdout"
        }
      ]
    },
    {
      "cell_type": "code",
      "metadata": {
        "id": "Yc_42KolD8GJ"
      },
      "source": [
        "os.environ['GOOGLE_APPLICATION_CREDENTIALS']= r'/content/ageless-welder-291017-33d94f566fac.json'"
      ],
      "execution_count": 16,
      "outputs": []
    },
    {
      "cell_type": "markdown",
      "metadata": {
        "id": "09mfnY2fGFfZ"
      },
      "source": [
        "# File Import & Image processing for Text Detection"
      ]
    },
    {
      "cell_type": "code",
      "metadata": {
        "id": "M9lqyIW7DAgs"
      },
      "source": [
        "file_name = 'SimplePM.png'\n",
        "folder_path = r'/content'"
      ],
      "execution_count": 13,
      "outputs": []
    },
    {
      "cell_type": "markdown",
      "metadata": {
        "id": "Cp07PHTjSt8m"
      },
      "source": [
        "Storing the binary information to a **content** object"
      ]
    },
    {
      "cell_type": "code",
      "metadata": {
        "id": "M5YPtxD0Fxj0"
      },
      "source": [
        "with io.open(os.path.join(folder_path,file_name),'rb' ) as image_file:\n",
        "  content = image_file.read()"
      ],
      "execution_count": 14,
      "outputs": []
    },
    {
      "cell_type": "markdown",
      "metadata": {
        "id": "-qc9ATs5SJvC"
      },
      "source": [
        "* **ImageAnnotatorClient service performs Google Cloud Vision API detection tasks over client images, such as face, landmark, logo, label, and text detection. The ImageAnnotator service returns detected entities from the images.**\n",
        "\n",
        "\n"
      ]
    },
    {
      "cell_type": "code",
      "metadata": {
        "id": "z2x60xChGWxz"
      },
      "source": [
        "client = vision.ImageAnnotatorClient()\n",
        "# Creating an Image instance using the image file stored in content\n",
        "image = vision.types.Image(content = content)\n",
        "# Vision API is using the text_detection method to identify the text and store in JSON response file\n",
        "response = client.text_detection(image = image)\n",
        "texts = response.text_annotations"
      ],
      "execution_count": 17,
      "outputs": []
    },
    {
      "cell_type": "code",
      "metadata": {
        "id": "Pp-up-GiG3Qw"
      },
      "source": [
        "df = pd.DataFrame(columns=['locale','description'])\n",
        "for text in texts:\n",
        "    df = df.append( \n",
        "        dict(\n",
        "            locale=text.locale, \n",
        "            description=text.description), ignore_index=True\n",
        "        )"
      ],
      "execution_count": 18,
      "outputs": []
    },
    {
      "cell_type": "code",
      "metadata": {
        "id": "ACNnjsgHNdhi",
        "outputId": "452716d3-db78-471f-f2ff-49c2f486e3e0",
        "colab": {
          "base_uri": "https://localhost:8080/",
          "height": 514
        }
      },
      "source": [
        "df"
      ],
      "execution_count": 19,
      "outputs": [
        {
          "output_type": "execute_result",
          "data": {
            "text/html": [
              "<div>\n",
              "<style scoped>\n",
              "    .dataframe tbody tr th:only-of-type {\n",
              "        vertical-align: middle;\n",
              "    }\n",
              "\n",
              "    .dataframe tbody tr th {\n",
              "        vertical-align: top;\n",
              "    }\n",
              "\n",
              "    .dataframe thead th {\n",
              "        text-align: right;\n",
              "    }\n",
              "</style>\n",
              "<table border=\"1\" class=\"dataframe\">\n",
              "  <thead>\n",
              "    <tr style=\"text-align: right;\">\n",
              "      <th></th>\n",
              "      <th>locale</th>\n",
              "      <th>description</th>\n",
              "    </tr>\n",
              "  </thead>\n",
              "  <tbody>\n",
              "    <tr>\n",
              "      <th>0</th>\n",
              "      <td>en</td>\n",
              "      <td>123RF\\n123RF\\nVisual Search\\nBRF\\n24 HR VIDEO\\...</td>\n",
              "    </tr>\n",
              "    <tr>\n",
              "      <th>1</th>\n",
              "      <td></td>\n",
              "      <td>123RF</td>\n",
              "    </tr>\n",
              "    <tr>\n",
              "      <th>2</th>\n",
              "      <td></td>\n",
              "      <td>123RF</td>\n",
              "    </tr>\n",
              "    <tr>\n",
              "      <th>3</th>\n",
              "      <td></td>\n",
              "      <td>Visual</td>\n",
              "    </tr>\n",
              "    <tr>\n",
              "      <th>4</th>\n",
              "      <td></td>\n",
              "      <td>Search</td>\n",
              "    </tr>\n",
              "    <tr>\n",
              "      <th>5</th>\n",
              "      <td></td>\n",
              "      <td>BRF</td>\n",
              "    </tr>\n",
              "    <tr>\n",
              "      <th>6</th>\n",
              "      <td></td>\n",
              "      <td>24</td>\n",
              "    </tr>\n",
              "    <tr>\n",
              "      <th>7</th>\n",
              "      <td></td>\n",
              "      <td>HR</td>\n",
              "    </tr>\n",
              "    <tr>\n",
              "      <th>8</th>\n",
              "      <td></td>\n",
              "      <td>VIDEO</td>\n",
              "    </tr>\n",
              "    <tr>\n",
              "      <th>9</th>\n",
              "      <td></td>\n",
              "      <td>SURVEILLANCE</td>\n",
              "    </tr>\n",
              "    <tr>\n",
              "      <th>10</th>\n",
              "      <td></td>\n",
              "      <td>123RF®</td>\n",
              "    </tr>\n",
              "    <tr>\n",
              "      <th>11</th>\n",
              "      <td></td>\n",
              "      <td>Q123RF</td>\n",
              "    </tr>\n",
              "    <tr>\n",
              "      <th>12</th>\n",
              "      <td></td>\n",
              "      <td>@123RF</td>\n",
              "    </tr>\n",
              "    <tr>\n",
              "      <th>13</th>\n",
              "      <td></td>\n",
              "      <td>@123RF</td>\n",
              "    </tr>\n",
              "    <tr>\n",
              "      <th>14</th>\n",
              "      <td></td>\n",
              "      <td>23RF®</td>\n",
              "    </tr>\n",
              "  </tbody>\n",
              "</table>\n",
              "</div>"
            ],
            "text/plain": [
              "   locale                                        description\n",
              "0      en  123RF\\n123RF\\nVisual Search\\nBRF\\n24 HR VIDEO\\...\n",
              "1                                                      123RF\n",
              "2                                                      123RF\n",
              "3                                                     Visual\n",
              "4                                                     Search\n",
              "5                                                        BRF\n",
              "6                                                         24\n",
              "7                                                         HR\n",
              "8                                                      VIDEO\n",
              "9                                               SURVEILLANCE\n",
              "10                                                    123RF®\n",
              "11                                                    Q123RF\n",
              "12                                                    @123RF\n",
              "13                                                    @123RF\n",
              "14                                                     23RF®"
            ]
          },
          "metadata": {
            "tags": []
          },
          "execution_count": 19
        }
      ]
    }
  ]
}